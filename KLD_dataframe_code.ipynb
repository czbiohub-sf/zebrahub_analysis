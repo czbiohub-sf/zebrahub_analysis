{
 "cells": [
  {
   "cell_type": "markdown",
   "id": "e412a468",
   "metadata": {},
   "source": [
    "# Analysis of inter-embryo variability using Kullback-Leibler divergence across genetically identical embryos\n",
    "\n",
    "### *Gene expression variance and invariance across sibling embryos. We devised a framework to quantify gene expression differences across individual embryos. Our framework relies on estimating probability distributions of gene expression across single cells for each embryo and applying an information-theoretic approach to quantify the differences between those distributions.*"
   ]
  },
  {
   "cell_type": "code",
   "execution_count": 5,
   "id": "18946f47-c8ea-442d-baf9-d9c4d84c9308",
   "metadata": {},
   "outputs": [],
   "source": [
    "import numpy as np\n",
    "import pandas as pd\n",
    "import scanpy as sc\n",
    "import seaborn as sns\n",
    "import matplotlib.pyplot as plt\n",
    "import matplotlib as mpl\n",
    "\n",
    "\n",
    "from scipy.special import rel_entr, kl_div\n",
    "from scipy.special import softmax\n",
    "from scipy.stats import entropy\n",
    "from scipy import stats\n",
    "\n",
    "from functools import reduce"
   ]
  },
  {
   "cell_type": "markdown",
   "id": "fdd054cf-c79e-4d4a-a26e-0615992d5c6c",
   "metadata": {},
   "source": [
    "## Uploading adata and get the KLD dataframe for a single timepoint"
   ]
  },
  {
   "cell_type": "markdown",
   "id": "11fe4a86",
   "metadata": {},
   "source": [
    "### We prepare the adata object:\n",
    "* Choose a single timepoint for the analysis\n",
    "* Find cell clusters with at least 80 cells per embryo\n",
    "* If we want to compute the analysis for the entire embryo, we call the function 'make_columns' with the annotation 'cell_type_1'. Otherwise, we call the function with the desired cell clusters, and the column in which the cell cluster labels can be found\n"
   ]
  },
  {
   "cell_type": "code",
   "execution_count": 18,
   "id": "64babd88",
   "metadata": {},
   "outputs": [],
   "source": [
    "# function: subsets adata for a timepoint\n",
    "# arguments: adata object and desired timepoint\n",
    "# output: subset adata object\n",
    "    \n",
    "def myadata(adata, timepoint):\n",
    "    myadata = adata[adata.obs.timepoint == timepoint].copy()\n",
    "    \n",
    "    return myadata"
   ]
  },
  {
   "cell_type": "code",
   "execution_count": 27,
   "id": "a4ec82e0-b63e-4c7a-9cf4-1554a5629e63",
   "metadata": {},
   "outputs": [],
   "source": [
    "def get_cell_clusters(adata, celltypecolumn = 'ontology_class'):\n",
    "    myfish = adata.obs.fish.unique()\n",
    "    celltypes = []\n",
    "\n",
    "    for fish in myfish:\n",
    "            counts = adata.obs[adata.obs.fish == fish][celltypecolumn].value_counts()\n",
    "            l = counts[counts > 80].index.tolist()\n",
    "            celltypes += l\n",
    "            \n",
    "    alltypes = set([x for x in celltypes if celltypes.count(x) == 4])\n",
    "    return list(alltypes)"
   ]
  },
  {
   "cell_type": "code",
   "execution_count": 19,
   "id": "a77b8af4-bfca-45bb-8d10-24394c7cb73e",
   "metadata": {},
   "outputs": [],
   "source": [
    "# function: some preprocessing, go from adata object to input for \n",
    "# input: adata object, and either a list of cell types with the cell type column name, or 'cell_type_1' if whole embryo\n",
    "# output: adata with new 'Cells_Annotations' column, the cell type(s) of interest for analysis\n",
    "\n",
    "def make_columns(adata, annotations = ['cell_type_1'], celltypecolumn = 'ontology_class'):\n",
    "    \n",
    "    if annotations[0] == 'cell_type_1':\n",
    "        newadata = adata.copy()\n",
    "        newadata.obs['Cells_Annotations'] = 'cell_type_1'\n",
    "        \n",
    "    else:\n",
    "        newadata = adata[adata.obs[celltypecolumn].isin(annotations)].copy()\n",
    "        newadata.obs['Cells_Annotations'] = newadata.obs[celltypecolumn].copy()\n",
    "        \n",
    "    \n",
    "    return newadata\n"
   ]
  },
  {
   "cell_type": "markdown",
   "id": "bea01cc3",
   "metadata": {},
   "source": [
    "## *Example code:*\n",
    "* Upload adata object\n",
    "* Chose timepoint and get subset adata ('myadata' function)\n",
    "* Find potential cell clusters to run analysis with at least 80 cells per embryo ('get_cell_clusters' function)\n",
    "* Now we have our example_adata, ready to run the inter-individual analysis"
   ]
  },
  {
   "cell_type": "code",
   "execution_count": 15,
   "id": "565b052c-59f3-48b3-b5e4-42387372062e",
   "metadata": {},
   "outputs": [],
   "source": [
    "adata = sc.read_h5ad('/mnt/ibm_lg/alejandro/danio-atlas/zebrahub/final_objects/v4/zf_atlas_full_v4_release.h5ad')\n",
    "adata12hpf = myadata(adata, '12hpf')\n",
    "get_cell_clusters(adata12hpf, 'zebrafish_anatomy_ontology_class')\n",
    "example_adata = make_columns(adata12hpf, ['periderm'], 'zebrafish_anatomy_ontology_class')"
   ]
  },
  {
   "cell_type": "markdown",
   "id": "12a098d5-3066-4f7c-92c3-f44b83906f25",
   "metadata": {},
   "source": [
    "## Inter-individual analysis (KLD)\n",
    "\n",
    "\n",
    "#### **Computes the median pairwise Kullback-Leibler divergence across genetically identical embryos for a single cell cluster and single timepoint**\n",
    "\n",
    "* Takes the log normalized counts grouped by embryo for each gene\n",
    "* Excludes genes that have less than 10 non-zero counts for each embryo\n",
    "* Fits a probability density function for the expression of each gene (for each individual embryo per time point) using a Gaussian kernel\n",
    "* Uses the Kullback-Leibler divergence to estimate, for each gene and per stage, all pairwise divergences between embryo gene count distributions"
   ]
  },
  {
   "cell_type": "code",
   "execution_count": 6,
   "id": "924968a5-9128-4f64-aaed-4746f9083553",
   "metadata": {},
   "outputs": [],
   "source": [
    "# function: calculation of KL for two numpy arrays\n",
    "# arguments: two numpy arrays\n",
    "# output: KL score (float)\n",
    "\n",
    "def kl_divergence(fish1gene = [],  fish2gene = []):\n",
    "    \n",
    "    \n",
    "    pkde = stats.gaussian_kde(np.array(fish1gene))\n",
    "    qkde = stats.gaussian_kde(np.array(fish2gene))\n",
    "    maxval = np.max([np.max(fish1gene), np.max(fish2gene)])\n",
    "    minval = np.min([np.min(fish1gene), np.min(fish2gene)])\n",
    "    \n",
    "    ### check gaussian_kde, no parameter that could change results (ie. range)\n",
    "    offset = 1\n",
    "    newx = np.linspace(minval-offset, maxval+offset,1000)\n",
    "    \n",
    "    p = pkde.pdf(newx)\n",
    "    q = qkde.pdf(newx)\n",
    "    \n",
    "    newp = np.where(p< 1e-9, 1e-9, p)\n",
    "    newq = np.where(q< 1e-9, 1e-9, q)\n",
    "\n",
    "    \n",
    "    kl_pair = stats.entropy(newp, newq)\n",
    "    return kl_pair"
   ]
  },
  {
   "cell_type": "markdown",
   "id": "a74e8fd6-0773-43e5-94bc-2ec613b17a24",
   "metadata": {},
   "source": [
    "Gets the arrays of RNA counts for the gene/cell type for a pair of fish"
   ]
  },
  {
   "cell_type": "code",
   "execution_count": 7,
   "id": "85f81b55-872a-4efe-a8db-d35a0cbcd13f",
   "metadata": {},
   "outputs": [],
   "source": [
    "# function: helper to make the matrix, gets the specific arrays and sends to kl function\n",
    "# arguments: matrix of counts (sparse), gene, cell type, two fish (str), layer (log/scaled str), obs and var from adata as pd.DF\n",
    "# output: kl divergence score for two arrays (calls kl function)\n",
    "\n",
    "def kl_fishpair_genecelltype2(matrix = [[],[]], gene = 'phtf2', cluster = 'Somite', fish1 = '44', fish2 = '46', obs=pd.DataFrame, var=pd.DataFrame):\n",
    "       \n",
    " \n",
    "    row1 = obs['fish'].loc[lambda x: x==fish1].index.tolist()\n",
    "    row2 = obs['fish'].loc[lambda x: x==fish2].index.tolist()\n",
    "    \n",
    "    myindex = int(var.index[var['index']==gene].tolist()[0])\n",
    "    \n",
    "\n",
    "    q = np.asarray(matrix.tocsr()[row1, myindex].todense()).flatten()\n",
    "    p = np.asarray(matrix.tocsr()[row2, myindex].todense()).flatten()\n",
    "    \n",
    "    if (np.sum(p > 0) < 10) or (np.sum(q > 0) < 10):\n",
    "        return -1\n",
    "    else:\n",
    "        return kl_divergence(q, p)"
   ]
  },
  {
   "cell_type": "markdown",
   "id": "af16599a-ef40-4009-be95-2b3879c8acef",
   "metadata": {},
   "source": [
    "Makes a matrix of pairwise fish"
   ]
  },
  {
   "cell_type": "code",
   "execution_count": 8,
   "id": "8b46e7b1-127f-4255-837e-eadf60580f4c",
   "metadata": {},
   "outputs": [],
   "source": [
    "# function: makes a matrix with the pairwise KL values\n",
    "# arguments: takes in a matrix of counts (sparse), a gene, cell type, list of fish (str), layer (log/scaled str), obs and var from adata as pd.DF\n",
    "# output: a matrix with all pairwise KL scores for the fish\n",
    "\n",
    "def kl_fish_matrix2(matrix = [[],[]], gene = 'phtf2', cluster = 'Somite', fish = [], obs =pd.DataFrame, var=pd.DataFrame):\n",
    "\n",
    "    fishcols = []\n",
    "    \n",
    "    for f1 in fish:\n",
    "        f1row = []\n",
    "        for f2 in fish:\n",
    "            value = kl_fishpair_genecelltype2(matrix, gene, cluster, f1, f2, obs, var)\n",
    "            \n",
    "            if (value == -1):\n",
    "                return -1\n",
    "            f1row.append(value)\n",
    "        fishcols.append(f1row)      \n",
    "\n",
    "    return fishcols "
   ]
  },
  {
   "cell_type": "markdown",
   "id": "25806885-5be5-43d1-9b87-5cf180d8ab5b",
   "metadata": {},
   "source": [
    "Summarizes the pairwise fish matrix (excluding the diagonal elements, compared to self) by the numpy method (i.e. np.mean) specified"
   ]
  },
  {
   "cell_type": "code",
   "execution_count": 9,
   "id": "8f11dc0b-93af-4e6a-a0de-7b1648e2c47e",
   "metadata": {},
   "outputs": [],
   "source": [
    "# function: calculates summary metric of kl matrix pairwise scores, not including the diagonal elements\n",
    "# arguments: matrix with kl pairwise scores, summary method metric (numpy)\n",
    "# output: single summary number of matrix (float)\n",
    "\n",
    "def kl_matrix_summary3(myfishmatrix, method = np.max):\n",
    "    testmatrix = np.array(myfishmatrix)\n",
    "    numzeros = len(testmatrix)\n",
    "    newx = np.sort(testmatrix, axis=None)\n",
    "    \n",
    "    allelem = newx[numzeros:]\n",
    "\n",
    "    \n",
    "\n",
    "    return method(allelem)"
   ]
  },
  {
   "cell_type": "markdown",
   "id": "c2a8d1e9-7fd3-4971-87e6-26acfe56c51a",
   "metadata": {},
   "source": [
    "Function that calls the process for a specific gene and builds the KLD dataframe"
   ]
  },
  {
   "cell_type": "code",
   "execution_count": 10,
   "id": "7264b580",
   "metadata": {},
   "outputs": [],
   "source": [
    "# function: return a dataframe with the desired KL metric summaries for specified genes, for a certain cell type\n",
    "# arguments: adata object, list of genes, cell type (str), list of fish (str), layer (log/scaled str), list of np summary methods (mean/median, etc)\n",
    "# output: pd dataframe, with columns gene, cluster (cell type), and summary methods\n",
    "\n",
    "\n",
    "def KL_metrics_genecluster(adata = [], gene = [], cluster = 'Somite', myfish = [], method = [], timepoint = '12hpf'):\n",
    "    \n",
    "    myadata = adata[adata.obs['Cells_Annotations'] == cluster].copy()\n",
    "    a_var = myadata.var.copy().reset_index()\n",
    "    a_obs = myadata.obs.copy().reset_index()\n",
    "    newmatrix = myadata.X.copy()\n",
    "    \n",
    "    mygenes = []\n",
    "    generow = {}\n",
    "    for g in gene:\n",
    "        mymatrix = kl_fish_matrix2(newmatrix, g, cluster, myfish, a_obs, a_var)\n",
    "        \n",
    "        if mymatrix == -1:\n",
    "            continue\n",
    "        \n",
    "        generow = {'gene': g, 'cluster': cluster}\n",
    "        for m in method:\n",
    "            stat = kl_matrix_summary3(mymatrix, m)\n",
    "            \n",
    "            generow[m.__name__] = stat\n",
    "\n",
    "        mygenes.append(generow)\n",
    "    \n",
    "       \n",
    "    bigframe = pd.DataFrame.from_dict(mygenes)\n",
    "    bigframe['timepoint'] = timepoint\n",
    "    return bigframe"
   ]
  },
  {
   "cell_type": "markdown",
   "id": "6521d6df-f4f3-49b7-a794-d04f9fb009ae",
   "metadata": {},
   "source": [
    "We call this function to compute the KL dataframe"
   ]
  },
  {
   "cell_type": "code",
   "execution_count": 11,
   "id": "e586fd17",
   "metadata": {},
   "outputs": [],
   "source": [
    "# function: creates a dataframe with KL metrics, per gene, grouped by cell type\n",
    "# arguments: adata, list of cell types/annotations, out_path as str, title as string \n",
    "# output: returns a dataframe with KL metrics per gene, per cell type\n",
    "\n",
    "def KLdf(adata = [], annotations = ['Hindbrain'], myfish = [], timepoint = 'hpf'):\n",
    "    KLframes = []\n",
    "    mymetrics = [np.max, np.min, np.median, np.std, np.mean]\n",
    "    mygenes = np.asarray(adata.var_names)\n",
    "    for a in annotations:\n",
    "        miniframe = KL_metrics_genecluster(adata, mygenes, a, myfish, mymetrics, timepoint)\n",
    "        KLframes.append(miniframe)\n",
    "\n",
    "\n",
    "    KL_metrics = pd.concat(KLframes, axis=0)\n",
    "    \n",
    "    return KL_metrics"
   ]
  },
  {
   "cell_type": "markdown",
   "id": "1763a1f2-a671-446d-a540-448907455a30",
   "metadata": {},
   "source": [
    "### Creates and saves the KLD dataframe\n",
    "#### *This is the function we call to create and save the KLD dataframe. We input the singular timepoint adata object and the cell types we want to run, and include the title and path to place to save the dataframe*"
   ]
  },
  {
   "cell_type": "code",
   "execution_count": 12,
   "id": "10e0017e-c455-4bb0-a67b-7954f29ce56f",
   "metadata": {},
   "outputs": [],
   "source": [
    "# function: exports a csv dataframe with KL metrics, per gene, grouped by cell type\n",
    "# arguments: adata, list of cell types/annotations, out_path as str, title as string \n",
    "# output: saves a CSV dataframe with KL metrics per gene, per cell type at the out_path\n",
    "\n",
    "def saveKLdf(adata = [], annotations = ['Hindbrain'], out_path = '', save_title = 'date', timepoint = 'hpf'):\n",
    "    myfish = adata.obs['fish'].unique()\n",
    "    KL_metrics = KLdf(adata, annotations, myfish, timepoint)\n",
    "    \n",
    "\n",
    "    KL_metrics.to_csv(out_path + save_title + 'Inter.csv')\n",
    "    \n",
    "    return KL_metrics\n"
   ]
  },
  {
   "cell_type": "markdown",
   "id": "e9fc1259",
   "metadata": {},
   "source": [
    "## *Example code:*\n",
    "\n",
    "* We use our 'example_adata = make_columns(adata12hpf, ['periderm'], 'zebrafish_anatomy_ontology_class')' from earlier\n",
    "* The timepoint variable should include 'hpf' hours post fertilization for later processing\n",
    "* We define the path to save and the title of the csv, it will be saved as out_path + save_title + 'Inter.csv'"
   ]
  },
  {
   "cell_type": "code",
   "execution_count": 30,
   "id": "2b427d4c",
   "metadata": {},
   "outputs": [],
   "source": [
    "myout_path = '/mnt/ibm_lg/sarah.ancheta/ZF_atlas/intra_inter_v4/'\n",
    "mysave_title = 'periderm_test'"
   ]
  },
  {
   "cell_type": "code",
   "execution_count": null,
   "id": "d2529eb0",
   "metadata": {},
   "outputs": [],
   "source": [
    "saveKLdf(adata = example_adata, annotations = ['periderm'], out_path = myout_path, save_title = mysave_title, timepoint = '12hpf')"
   ]
  },
  {
   "cell_type": "markdown",
   "id": "57ba14bd-3d7d-4364-afe7-45f669010ec1",
   "metadata": {},
   "source": [
    "## Null model for median KL divergences through embryo ID randomization\n",
    "\n",
    "#### *Gives us the expected median KL values if the differences between embryos were due to chance alone* \n",
    "\n",
    "* To establish a negative control and to gain a baseline for the difference in KL divergence between embryos (for a specific gene), we performed a bootstrap-like method\n",
    "* Each cell has an embryo-specific ID, which we randomly reassigned\n",
    "* We then repeated the inter-embryo diversity analysis process as described above\n",
    "* We repeated this process n = 20 times"
   ]
  },
  {
   "cell_type": "code",
   "execution_count": null,
   "id": "5ca50db2-86cf-44ae-9e11-56ec60dfa95f",
   "metadata": {},
   "outputs": [],
   "source": [
    "# function: saves a csv pandas DF with intrafish metrics, with numrandomstates different random scrambled fish states\n",
    "# arguments: adata, cell types list of str, out_path (str) and title to save (str)\n",
    "# output: csv with scrambled fish, same as intrafish DF but with added column of the random state\n",
    "\n",
    "def scrambledInterFish(adata = [], annotations = ['Hindbrain'], numrandomstates = 20, timepoint = 'hpf'):\n",
    "    \n",
    "    scrambleDFframes = []\n",
    "    myfish = adata.obs['fish'].unique()\n",
    "    \n",
    "    for i in range(numrandomstates):\n",
    "        adata1 = adata.copy()\n",
    "        adata1.obs['fish'] = np.random.RandomState(seed=i).permutation(adata1.obs['fish'].values)\n",
    "        state = str(i)\n",
    "        \n",
    "        fishscramble = KLdf(adata1, annotations, myfish, timepoint)\n",
    "        fishscramble['Random_State']='mixed_fish' + state\n",
    "        scrambleDFframes.append(fishscramble)\n",
    "        \n",
    "        \n",
    "    scrambleInter = pd.concat(scrambleDFframes, axis=0)\n",
    "    \n",
    "    \n",
    "    return scrambleInter\n"
   ]
  },
  {
   "cell_type": "code",
   "execution_count": null,
   "id": "2ee1a806-7d6c-430d-a727-1773fea328d2",
   "metadata": {},
   "outputs": [],
   "source": [
    "# function: saves scrambled (null) df with KL analysis\n",
    "# arguments: adata, list of cell types/annotations, number of randomzied iterations, out_path as str, title as string \n",
    "# output: returns a dataframe with KL metrics per gene, per cell type, with random state column (which iteration of random)\n",
    "\n",
    "def save_scrambledInter(adata = [], annotations = ['Hindbrain'], numrandomstates = 20, out_path = '', save_title = 'date', timepoint = 'hpf'):\n",
    "    \n",
    "    mydf = scrambledInterFish(adata, annotations, numrandomstates, timepoint)\n",
    "    mydf.to_csv(out_path + save_title + 'null_scramble.csv')\n",
    "    \n",
    "    return mydf"
   ]
  },
  {
   "cell_type": "markdown",
   "id": "0b28e23c-03e7-4213-b983-7f40c12cd956",
   "metadata": {},
   "source": [
    "## *Example code:*\n",
    "\n",
    "* Same as above for the KLD dataframe, but now include the number of random iterations\n",
    "* We use our 'example_adata = make_columns(adata12hpf, ['periderm'], 'zebrafish_anatomy_ontology_class')' from earlier\n",
    "* The timepoint variable should include 'hpf' hours post fertilization for later processing\n",
    "* We define the path to save and the title of the csv, it will be saved as out_path + save_title + 'Inter.csv'"
   ]
  },
  {
   "cell_type": "code",
   "execution_count": 24,
   "id": "dfd7da90-d820-488c-b224-d5037c09e0c5",
   "metadata": {},
   "outputs": [],
   "source": [
    "myout_path = '/mnt/ibm_lg/sarah.ancheta/ZF_atlas/intra_inter_v4/'\n",
    "mysave_title = 'periderm_test_null_randomized'"
   ]
  },
  {
   "cell_type": "code",
   "execution_count": null,
   "id": "122ad4d0-3608-400a-b5d1-c0d90f8f38e1",
   "metadata": {},
   "outputs": [],
   "source": [
    "save_scrambledInter(adata = example_adata, annotations = ['periderm'], numrandomstates = 20, out_path = myout_path, save_title = mysave_title, timepoint = '12hpf')"
   ]
  }
 ],
 "metadata": {
  "kernelspec": {
   "display_name": "py38zebra",
   "language": "python",
   "name": "py38zebra"
  },
  "language_info": {
   "codemirror_mode": {
    "name": "ipython",
    "version": 3
   },
   "file_extension": ".py",
   "mimetype": "text/x-python",
   "name": "python",
   "nbconvert_exporter": "python",
   "pygments_lexer": "ipython3",
   "version": "3.8.13"
  }
 },
 "nbformat": 4,
 "nbformat_minor": 5
}
